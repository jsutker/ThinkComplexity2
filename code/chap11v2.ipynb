{
 "cells": [
  {
   "cell_type": "markdown",
   "metadata": {},
   "source": [
    "# NK models of evolution\n",
    "\n",
    "Code examples from [Think Complexity, 2nd edition](http://greenteapress.com/wp/complexity2), Chapter 11\n",
    "\n",
    "Copyright 2016 Allen Downey, [MIT License](http://opensource.org/licenses/MIT)"
   ]
  },
  {
   "cell_type": "code",
   "execution_count": 1,
   "metadata": {
    "collapsed": false
   },
   "outputs": [],
   "source": [
    "from __future__ import print_function, division\n",
    "\n",
    "%matplotlib inline\n",
    "%precision 3\n",
    "\n",
    "import warnings\n",
    "warnings.filterwarnings('ignore')\n",
    "\n",
    "import numpy as np\n",
    "from numpy.random import rand, randint, permutation\n",
    "\n",
    "from thinkstats2 import Cdf\n",
    "from thinkstats2 import RandomSeed\n",
    "\n",
    "import thinkplot\n",
    "\n",
    "from matplotlib import rc\n",
    "rc('animation', html='html5')"
   ]
  },
  {
   "cell_type": "markdown",
   "metadata": {},
   "source": [
    "## The NK landscape\n",
    "\n",
    "Here's an implementation of an NK landscape.\n",
    "\n",
    "A location in the landscape is represented by a NumPy array of N 0s and 1s.\n",
    "\n",
    "The `index` attribute of `NKLandscape` is an array of indices into a location, which is an efficient way to select the overlapping slices.\n",
    "\n",
    "The `cache` attribute is a dictionary that maps from `(i, slice)` to a fitness, where `i` indicates which of the `N` functions we want to evaluate and `slice` is the parameters of the function.\n",
    "\n",
    "The first time we see a particular `(i, slice)` pair, we generate a random fitness value.  The we store it in the `cache` in case we need it again."
   ]
  },
  {
   "cell_type": "code",
   "execution_count": 2,
   "metadata": {
    "collapsed": false
   },
   "outputs": [],
   "source": [
    "class NKLandscape:\n",
    "    def __init__(self, N, K, A=2):\n",
    "        \"\"\"Create a landscape.\n",
    "        \n",
    "        N: number of attributes\n",
    "        K: number of interactions\n",
    "        \n",
    "        index is a NumPy array that specifies the interactions between\n",
    "        attributes. (The K+1 entries in each row identify the attributes\n",
    "        that contribute to the fitness of the row attribute.)\n",
    "        \"\"\"\n",
    "        self.N = N\n",
    "        self.K = K\n",
    "        self.A = A\n",
    "        self.cache = dict()\n",
    "        \n",
    "        # compute the powers of 2 up to K, used in lookup()\n",
    "        self.powers = 2 ** np.arange(K, -1, -1)\n",
    "\n",
    "        # compute the index, used in fitness()\n",
    "        iseq = np.array(range(N))\n",
    "        jseq = np.array(range(K+1))\n",
    "        self.index = (iseq[:, None] + jseq[None, :]) % N\n",
    "\n",
    "    def random_loc(self):\n",
    "        \"\"\"Choose a random location.\"\"\"\n",
    "        # in NumPy version 1.11 we can pass dtype to randint\n",
    "        return randint(self.A, size=self.N).astype(np.uint8)\n",
    "    \n",
    "    def lookup(self, i, row):\n",
    "        \"\"\"Look up `row` in function `i`.\n",
    "        \n",
    "        i: int from 0 to N-1\n",
    "        row: array of K+1 0s and 1s\n",
    "        \n",
    "        returns: f_i(row)\n",
    "        \"\"\"  \n",
    "        #key = i, np.sum(self.powers * row)\n",
    "        key = i, tuple(row)\n",
    "        return self.cache.setdefault(key, rand())\n",
    "    \n",
    "    def fitness(self, loc):\n",
    "        \"\"\"Evaluates the fitness of a location.\n",
    "        \n",
    "        loc: array of N 0s and 1s\n",
    "        \n",
    "        returns: float fitness\n",
    "        \"\"\"\n",
    "        slices = loc[self.index]\n",
    "        fs = [self.lookup(i, row) for i, row in enumerate(slices)]\n",
    "        return np.mean(fs)"
   ]
  },
  {
   "cell_type": "markdown",
   "metadata": {},
   "source": [
    "Here's a small example.  The index shows how the traits are linked.  Trait 0 is linked to traits 1 and 2.  Trait 1 is linked to traits 2 and 3, etc."
   ]
  },
  {
   "cell_type": "code",
   "execution_count": 3,
   "metadata": {
    "collapsed": false,
    "scrolled": true
   },
   "outputs": [
    {
     "data": {
      "text/plain": [
       "array([[0, 1, 2],\n",
       "       [1, 2, 3],\n",
       "       [2, 3, 4],\n",
       "       [3, 4, 0],\n",
       "       [4, 0, 1]])"
      ]
     },
     "execution_count": 3,
     "metadata": {},
     "output_type": "execute_result"
    }
   ],
   "source": [
    "nkland = NKLandscape(5, 2)\n",
    "nkland.index"
   ]
  },
  {
   "cell_type": "markdown",
   "metadata": {},
   "source": [
    "Here's an example that evaluates the fitness at a random location:"
   ]
  },
  {
   "cell_type": "code",
   "execution_count": 4,
   "metadata": {
    "collapsed": false
   },
   "outputs": [
    {
     "data": {
      "text/plain": [
       "(array([1, 1, 0, 1, 1], dtype=uint8), 0.221)"
      ]
     },
     "execution_count": 4,
     "metadata": {},
     "output_type": "execute_result"
    }
   ],
   "source": [
    "loc = nkland.random_loc()\n",
    "loc, nkland.fitness(loc)"
   ]
  },
  {
   "cell_type": "markdown",
   "metadata": {},
   "source": [
    "Here's what the landscape cache looks like after one evaluation:"
   ]
  },
  {
   "cell_type": "code",
   "execution_count": 5,
   "metadata": {
    "collapsed": false
   },
   "outputs": [
    {
     "data": {
      "text/plain": [
       "{(0, (1, 1, 0)): 0.058,\n",
       " (1, (1, 0, 1)): 0.168,\n",
       " (2, (0, 1, 1)): 0.078,\n",
       " (3, (1, 1, 1)): 0.272,\n",
       " (4, (1, 1, 1)): 0.530}"
      ]
     },
     "execution_count": 5,
     "metadata": {},
     "output_type": "execute_result"
    }
   ],
   "source": [
    "nkland.cache"
   ]
  },
  {
   "cell_type": "markdown",
   "metadata": {},
   "source": [
    "If we evaluate the same location again, we should get the same value."
   ]
  },
  {
   "cell_type": "code",
   "execution_count": 6,
   "metadata": {
    "collapsed": false
   },
   "outputs": [
    {
     "data": {
      "text/plain": [
       "(array([1, 1, 0, 1, 1], dtype=uint8), 0.221)"
      ]
     },
     "execution_count": 6,
     "metadata": {},
     "output_type": "execute_result"
    }
   ],
   "source": [
    "loc, nkland.fitness(loc)"
   ]
  },
  {
   "cell_type": "markdown",
   "metadata": {},
   "source": [
    "And if we evaluate a different location, we should get a different value."
   ]
  },
  {
   "cell_type": "code",
   "execution_count": 7,
   "metadata": {
    "collapsed": false
   },
   "outputs": [
    {
     "data": {
      "text/plain": [
       "(array([1, 1, 0, 1, 0], dtype=uint8), 0.175)"
      ]
     },
     "execution_count": 7,
     "metadata": {},
     "output_type": "execute_result"
    }
   ],
   "source": [
    "loc = nkland.random_loc()\n",
    "loc, nkland.fitness(loc)"
   ]
  },
  {
   "cell_type": "markdown",
   "metadata": {},
   "source": [
    "## The agents\n",
    "\n",
    "Here's a parent class, `NKAgent`, that contains code used by all agents:"
   ]
  },
  {
   "cell_type": "code",
   "execution_count": 8,
   "metadata": {
    "collapsed": false
   },
   "outputs": [],
   "source": [
    "class NKAgent:\n",
    "    \"\"\"Represents an agent in an NK model.\"\"\"\n",
    "    \n",
    "    def __init__(self, landscape):\n",
    "        \"\"\"Create an agent at the given location.\n",
    "        \n",
    "        loc: array of N 0s and 1s\n",
    "        landscape: reference to an NKLandscape\n",
    "        \"\"\"\n",
    "        self.landscape = landscape\n",
    "        self.loc = landscape.random_loc()\n",
    "        self.fitness = landscape.fitness(self.loc)\n",
    "        self.moves = 0\n",
    "        self.done = False\n",
    "        \n",
    "    def mutation(self, direction):\n",
    "        \"\"\"Computes the location in the given direction.\n",
    "        \n",
    "        Result differs from the current location along the given axis.\n",
    "        \n",
    "        direction: int index from 0 to N-1\n",
    "        \n",
    "        returns: new array of N 0s and 1s\n",
    "        \"\"\"\n",
    "        new_loc = self.loc.copy()\n",
    "        new_loc[direction] ^= 1\n",
    "        return new_loc\n",
    "    \n",
    "    def generate_mutations(self):\n",
    "        \"\"\"Generates all possible mutations from current location, in random order.\n",
    "        \n",
    "        yields: new array of N 0s and 1s\n",
    "        \"\"\"\n",
    "        for direction in permutation(self.landscape.N):\n",
    "            new_loc = self.mutation(direction)\n",
    "            yield new_loc\n",
    "\n",
    "    def consider(self, new_loc):\n",
    "        \"\"\"Moves if the fitness at `new_loc` is greater than or equal to current fitness.\n",
    "        \n",
    "        new_loc: array of N 0s and 1s\n",
    "        \n",
    "        return: True if the agent moved\n",
    "        \"\"\"\n",
    "        new_fitness = self.landscape.fitness(new_loc)\n",
    "        if new_fitness >= self.fitness:\n",
    "            self.loc = new_loc\n",
    "            self.fitness = new_fitness\n",
    "            self.moves += 1\n",
    "            return True\n",
    "        return False\n",
    "    \n",
    "    def step(self):\n",
    "        \"\"\"Consider at least one mutation.\n",
    "        \n",
    "        Child classes should override this method.\n",
    "        \n",
    "        \"\"\"\n",
    "        pass"
   ]
  },
  {
   "cell_type": "markdown",
   "metadata": {},
   "source": [
    "Here's an example using the NKAgent parent class."
   ]
  },
  {
   "cell_type": "code",
   "execution_count": 9,
   "metadata": {
    "collapsed": false
   },
   "outputs": [
    {
     "data": {
      "text/plain": [
       "(array([0, 1, 1, 1, 1], dtype=uint8), 0.526)"
      ]
     },
     "execution_count": 9,
     "metadata": {},
     "output_type": "execute_result"
    }
   ],
   "source": [
    "agent = NKAgent(nkland)\n",
    "agent.loc, agent.fitness"
   ]
  },
  {
   "cell_type": "markdown",
   "metadata": {},
   "source": [
    "We can choose a random direction."
   ]
  },
  {
   "cell_type": "code",
   "execution_count": 10,
   "metadata": {
    "collapsed": false
   },
   "outputs": [
    {
     "data": {
      "text/plain": [
       "array([1, 1, 1, 1, 1], dtype=uint8)"
      ]
     },
     "execution_count": 10,
     "metadata": {},
     "output_type": "execute_result"
    }
   ],
   "source": [
    "direction = randint(nkland.N)\n",
    "new_loc = agent.mutation(direction)\n",
    "new_loc"
   ]
  },
  {
   "cell_type": "markdown",
   "metadata": {},
   "source": [
    "And consider moving."
   ]
  },
  {
   "cell_type": "code",
   "execution_count": 11,
   "metadata": {
    "collapsed": false
   },
   "outputs": [
    {
     "data": {
      "text/plain": [
       "False"
      ]
     },
     "execution_count": 11,
     "metadata": {},
     "output_type": "execute_result"
    }
   ],
   "source": [
    "agent.consider(new_loc)"
   ]
  },
  {
   "cell_type": "code",
   "execution_count": 12,
   "metadata": {
    "collapsed": false
   },
   "outputs": [
    {
     "data": {
      "text/plain": [
       "(array([0, 1, 1, 1, 1], dtype=uint8), 0.526)"
      ]
     },
     "execution_count": 12,
     "metadata": {},
     "output_type": "execute_result"
    }
   ],
   "source": [
    "agent.loc, agent.fitness"
   ]
  },
  {
   "cell_type": "markdown",
   "metadata": {},
   "source": [
    "The following loop considers every direction, in random order, and accepts the first acceptable move."
   ]
  },
  {
   "cell_type": "code",
   "execution_count": 13,
   "metadata": {
    "collapsed": false
   },
   "outputs": [
    {
     "name": "stdout",
     "output_type": "stream",
     "text": [
      "[0 1 1 0 1] 0.531840447424\n",
      "[0 1 0 0 1] 0.624340496008\n"
     ]
    }
   ],
   "source": [
    "for direction in permutation(nkland.N):\n",
    "    new_loc = agent.mutation(direction)\n",
    "    if agent.consider(new_loc):\n",
    "        print(agent.loc, agent.fitness)"
   ]
  },
  {
   "cell_type": "markdown",
   "metadata": {},
   "source": [
    "Now we can encapsulate that strategy, called the \"fitter\" strategy, in a class:"
   ]
  },
  {
   "cell_type": "code",
   "execution_count": 14,
   "metadata": {
    "collapsed": false
   },
   "outputs": [],
   "source": [
    "class NKAgentFitter(NKAgent):\n",
    "    def step(self):\n",
    "        \"\"\"Consider all mutations in order and choose the first improvement.\"\"\"\n",
    "        if self.done:\n",
    "            return False\n",
    "        \n",
    "        for new_loc in self.generate_mutations():\n",
    "            if self.consider(new_loc):\n",
    "                return True\n",
    "            \n",
    "        self.done = True\n",
    "        return False"
   ]
  },
  {
   "cell_type": "code",
   "execution_count": 15,
   "metadata": {
    "collapsed": false
   },
   "outputs": [
    {
     "data": {
      "text/plain": [
       "(array([0, 0, 1, 0, 1], dtype=uint8), 0.360)"
      ]
     },
     "execution_count": 15,
     "metadata": {},
     "output_type": "execute_result"
    }
   ],
   "source": [
    "agent = NKAgentFitter(nkland)\n",
    "agent.loc, agent.fitness"
   ]
  },
  {
   "cell_type": "code",
   "execution_count": 16,
   "metadata": {
    "collapsed": false
   },
   "outputs": [
    {
     "data": {
      "text/plain": [
       "True"
      ]
     },
     "execution_count": 16,
     "metadata": {},
     "output_type": "execute_result"
    }
   ],
   "source": [
    "agent.step()"
   ]
  },
  {
   "cell_type": "code",
   "execution_count": 17,
   "metadata": {
    "collapsed": false
   },
   "outputs": [
    {
     "data": {
      "text/plain": [
       "(array([0, 1, 1, 0, 1], dtype=uint8), 0.532)"
      ]
     },
     "execution_count": 17,
     "metadata": {},
     "output_type": "execute_result"
    }
   ],
   "source": [
    "agent.loc, agent.fitness"
   ]
  },
  {
   "cell_type": "markdown",
   "metadata": {},
   "source": [
    "**Exercise:** Implement the other strategies described by Vidgen and Padget in [Sendero](http://jasss.soc.surrey.ac.uk/12/4/8.html).\n",
    "\n",
    "Write a class definition called `NKAgentMutant` that implements the one-mutant neighbor strategy and a class definition called `NKAgentGreedy` that implements the greedy strategy.  Instantiate one of each and invoke their step methods."
   ]
  },
  {
   "cell_type": "code",
   "execution_count": 18,
   "metadata": {
    "collapsed": false
   },
   "outputs": [
    {
     "name": "stdout",
     "output_type": "stream",
     "text": [
      "(array([1, 0, 1, 1, 1], dtype=uint8), 0.55166431854883036)\n",
      "(array([1, 0, 1, 1, 1], dtype=uint8), 0.55166431854883036)\n",
      "(array([0, 1, 0, 0, 1], dtype=uint8), 0.62434049600795183)\n",
      "(array([0, 1, 0, 0, 0], dtype=uint8), 0.6539215817380073)\n"
     ]
    }
   ],
   "source": [
    "import random\n",
    "class NKAgentMutant(NKAgent):\n",
    "    def step(self):\n",
    "        \"\"\"Consider one mutation at random.\"\"\"\n",
    "        if self.done:\n",
    "            return False\n",
    "        locs = self.generate_mutations()\n",
    "        new_loc = random.choice(list(locs))\n",
    "        if self.consider(new_loc):\n",
    "            return True\n",
    "            \n",
    "        self.done = True\n",
    "        return False\n",
    "    \n",
    "class NKAgentGreedy(NKAgent):\n",
    "    def step(self):\n",
    "        \"\"\"Considers the highest fitness new location.\"\"\"\n",
    "        if self.done:\n",
    "            return True\n",
    "        all_locs = list(self.generate_mutations())\n",
    "        all_loc_fitnesses = [self.landscape.fitness(x) for x in all_locs]\n",
    "        top_fit_loc = [x for (y, x) in sorted(zip(all_loc_fitnesses, all_locs))][-1]\n",
    "        if self.consider(top_fit_loc):\n",
    "            return True\n",
    "        \n",
    "        self.done = True\n",
    "        return False\n",
    "\n",
    "mut_agent = NKAgentMutant(nkland)\n",
    "print((mut_agent.loc, mut_agent.fitness))\n",
    "mut_agent.step()\n",
    "print((mut_agent.loc, mut_agent.fitness))\n",
    "\n",
    "gr_agent = NKAgentGreedy(nkland)\n",
    "print((gr_agent.loc, gr_agent.fitness))\n",
    "gr_agent.step()\n",
    "print((gr_agent.loc, gr_agent.fitness))"
   ]
  },
  {
   "cell_type": "markdown",
   "metadata": {},
   "source": [
    "## The simulator\n",
    "\n",
    "Here's a class that runs simulations:"
   ]
  },
  {
   "cell_type": "code",
   "execution_count": 19,
   "metadata": {
    "collapsed": false
   },
   "outputs": [],
   "source": [
    "class NKSimulation:\n",
    "    \n",
    "    def __init__(self, landscape, num_agents, agent_maker):\n",
    "        \"\"\"Create the simulation:\n",
    "        \n",
    "        landscape: NKLandscape\n",
    "        num_agents: int number of agents\n",
    "        agent_maker: function that makes agents\n",
    "        \"\"\"\n",
    "        self.landscape = landscape\n",
    "        self.agents = [agent_maker(landscape) for _ in range(num_agents)]\n",
    "        \n",
    "    def step(self):\n",
    "        \"\"\"Run step on each agent.\n",
    "        \n",
    "        returns: list of boolean, whether each agent moves\n",
    "        \"\"\"\n",
    "        return [agent.step() for agent in self.agents]\n",
    "        \n",
    "    def get_fitnesses(self):\n",
    "        \"\"\"Returns a list of agent fitnesses.\"\"\"\n",
    "        return [agent.fitness for agent in self.agents]\n",
    "    \n",
    "    def get_locations(self):\n",
    "        \"\"\"Returns a list of agent locations.\"\"\"\n",
    "        return [agent.loc for agent in self.agents]\n",
    "    \n",
    "    def get_peaks(self):\n",
    "        \"\"\"Returns the set of unique locations.\n",
    "        \n",
    "        If all agents have run until they reach a local peak,\n",
    "        the result is a subset of the peaks.\n",
    "        \"\"\"\n",
    "        locs = [tuple(loc) for loc in self.get_locations()]\n",
    "        return set(locs)\n",
    "\n",
    "    def get_peak_heights(self):\n",
    "        \"\"\"Returns the set of unique heights.\n",
    "        \n",
    "        If all agents have run until they reach a local peak,\n",
    "        the result is heights of a subset of the peaks.\n",
    "        \"\"\"\n",
    "        return set(self.get_fitnesses())\n",
    "    \n",
    "    def get_path_lengths(self):\n",
    "        \"\"\"Returns the number of moves for each agent.\n",
    "        \n",
    "        If all agents have run until they reach a local peak,\n",
    "        the result is the sequence of path lengths.\n",
    "        \"\"\"\n",
    "        return [agent.moves for agent in self.agents]"
   ]
  },
  {
   "cell_type": "markdown",
   "metadata": {},
   "source": [
    "And here's an example with small values of `N` and `K`.  Initially the distribution of fitness is centered around 0.5."
   ]
  },
  {
   "cell_type": "code",
   "execution_count": 20,
   "metadata": {
    "collapsed": false
   },
   "outputs": [
    {
     "data": {
      "text/plain": [
       "0.379"
      ]
     },
     "execution_count": 20,
     "metadata": {},
     "output_type": "execute_result"
    },
    {
     "data": {
      "image/png": "[encoded data removed]",
      "text/plain": [
       "<matplotlib.figure.Figure at 0x7f020c116950>"
      ]
     },
     "metadata": {},
     "output_type": "display_data"
    }
   ],
   "source": [
    "nkl = NKLandscape(5, 2)\n",
    "nksim = NKSimulation(nkl, 100, NKAgentFitter)\n",
    "cdf_fitness = Cdf(nksim.get_fitnesses())\n",
    "thinkplot.Cdf(cdf_fitness)\n",
    "\n",
    "cdf_fitness.Mean()"
   ]
  },
  {
   "cell_type": "markdown",
   "metadata": {},
   "source": [
    "Here's how the distribution of fitness evolves after each step."
   ]
  },
  {
   "cell_type": "code",
   "execution_count": 21,
   "metadata": {
    "collapsed": false
   },
   "outputs": [
    {
     "data": {
      "image/png": "[encoded data removed]",
      "text/plain": [
       "<matplotlib.figure.Figure at 0x7f01d9343250>"
      ]
     },
     "metadata": {},
     "output_type": "display_data"
    }
   ],
   "source": [
    "thinkplot.PrePlot(7)\n",
    "\n",
    "nksim = NKSimulation(nkl, 100, NKAgentFitter)\n",
    "\n",
    "for i in range(7):\n",
    "    cdf_fitness = Cdf(nksim.get_fitnesses())\n",
    "    thinkplot.Cdf(cdf_fitness)\n",
    "    nksim.step()"
   ]
  },
  {
   "cell_type": "markdown",
   "metadata": {},
   "source": [
    "After every agent has found a peak, we can plot the distribution of fitness."
   ]
  },
  {
   "cell_type": "code",
   "execution_count": 22,
   "metadata": {
    "collapsed": false
   },
   "outputs": [
    {
     "data": {
      "text/plain": [
       "{'xscale': 'linear', 'yscale': 'linear'}"
      ]
     },
     "execution_count": 22,
     "metadata": {},
     "output_type": "execute_result"
    },
    {
     "data": {
      "image/png": "[encoded data removed]",
      "text/plain": [
       "<matplotlib.figure.Figure at 0x7f01d8d58590>"
      ]
     },
     "metadata": {},
     "output_type": "display_data"
    }
   ],
   "source": [
    "cdf_fitness = Cdf(nksim.get_fitnesses())\n",
    "thinkplot.Cdf(cdf_fitness)"
   ]
  },
  {
   "cell_type": "markdown",
   "metadata": {},
   "source": [
    "The number of unique locations is a lower bound on the number of peaks."
   ]
  },
  {
   "cell_type": "code",
   "execution_count": 23,
   "metadata": {
    "collapsed": false
   },
   "outputs": [
    {
     "data": {
      "text/plain": [
       "3"
      ]
     },
     "execution_count": 23,
     "metadata": {},
     "output_type": "execute_result"
    }
   ],
   "source": [
    "peaks = nksim.get_peaks()\n",
    "len(peaks)"
   ]
  },
  {
   "cell_type": "markdown",
   "metadata": {},
   "source": [
    "And we can look at the heights of the peaks."
   ]
  },
  {
   "cell_type": "code",
   "execution_count": 24,
   "metadata": {
    "collapsed": false
   },
   "outputs": [
    {
     "data": {
      "text/plain": [
       "{0.521, 0.532, 0.537}"
      ]
     },
     "execution_count": 24,
     "metadata": {},
     "output_type": "execute_result"
    }
   ],
   "source": [
    "heights = nksim.get_peak_heights()\n",
    "heights"
   ]
  },
  {
   "cell_type": "markdown",
   "metadata": {},
   "source": [
    "Here's the distribution of path lengths.  A few agents are born on a peak.  The longest path is probably 5 or fewer."
   ]
  },
  {
   "cell_type": "code",
   "execution_count": 25,
   "metadata": {
    "collapsed": false
   },
   "outputs": [
    {
     "data": {
      "text/plain": [
       "{'xscale': 'linear', 'yscale': 'linear'}"
      ]
     },
     "execution_count": 25,
     "metadata": {},
     "output_type": "execute_result"
    },
    {
     "data": {
      "image/png": "[encoded data removed]",
      "text/plain": [
       "<matplotlib.figure.Figure at 0x7f01d8ca4110>"
      ]
     },
     "metadata": {},
     "output_type": "display_data"
    }
   ],
   "source": [
    "cdf_moves = Cdf(nksim.get_path_lengths())\n",
    "thinkplot.Cdf(cdf_moves)"
   ]
  },
  {
   "cell_type": "markdown",
   "metadata": {},
   "source": [
    "This function encapsulates the steps for running a simulation:"
   ]
  },
  {
   "cell_type": "code",
   "execution_count": 26,
   "metadata": {
    "collapsed": false
   },
   "outputs": [],
   "source": [
    "def run_simulation(N=5, K=2, num_agents=100, agent_maker=NKAgentFitter):\n",
    "    \"\"\"Create a simulation and run until all agents find a peak.\n",
    "    \n",
    "    N: int number of traits\n",
    "    K: int number of interactions\n",
    "    num_agents: int number of agents\n",
    "    agent_maker: function that creates agents\n",
    "    \n",
    "    returns NKSimulation object\n",
    "    \"\"\"\n",
    "    nkl = NKLandscape(N, K)\n",
    "    nksim = NKSimulation(nkl, num_agents, agent_maker)\n",
    "    for i in range(100):\n",
    "        steps = nksim.step()\n",
    "        if np.sum(steps) == 0:\n",
    "            break\n",
    "    return nksim"
   ]
  },
  {
   "cell_type": "markdown",
   "metadata": {},
   "source": [
    "Here's the same small example:"
   ]
  },
  {
   "cell_type": "code",
   "execution_count": 27,
   "metadata": {
    "collapsed": false
   },
   "outputs": [],
   "source": [
    "nksim = run_simulation(N=5, K=2)"
   ]
  },
  {
   "cell_type": "markdown",
   "metadata": {},
   "source": [
    "This function takes a completed simulation and summarizes the results."
   ]
  },
  {
   "cell_type": "code",
   "execution_count": 28,
   "metadata": {
    "collapsed": false
   },
   "outputs": [],
   "source": [
    "def plot_results(nksim):\n",
    "    \"\"\"Summarizes simulation results.\n",
    "    \n",
    "    nksim: NKSimulation object\n",
    "    \"\"\"\n",
    "    cdf_fitness = Cdf(nksim.get_fitnesses())\n",
    "    peaks = nksim.get_peaks()\n",
    "    heights = nksim.get_peak_heights()\n",
    "    cdf_moves = Cdf(nksim.get_path_lengths())\n",
    "    \n",
    "    print(\"Mean fitness: \", cdf_fitness.Mean())\n",
    "    print(\"Mean path length: \", cdf_moves.Mean())\n",
    "    print(\"Number of peaks:\", len(peaks))\n",
    "\n",
    "    thinkplot.PrePlot(cols=2)\n",
    "    thinkplot.Cdf(cdf_fitness)\n",
    "    thinkplot.Config(xlabel='Fitness', ylabel='CDF')\n",
    "\n",
    "    thinkplot.SubPlot(2)\n",
    "    thinkplot.Cdf(cdf_moves)\n",
    "    thinkplot.Config(xlabel='Path Length', ylabel='CDF')"
   ]
  },
  {
   "cell_type": "markdown",
   "metadata": {},
   "source": [
    "And here are the results with small values of `N` and `K`."
   ]
  },
  {
   "cell_type": "code",
   "execution_count": 29,
   "metadata": {
    "collapsed": false
   },
   "outputs": [
    {
     "name": "stdout",
     "output_type": "stream",
     "text": [
      "Mean fitness:  0.676256324461\n",
      "Mean path length:  1.86\n",
      "Number of peaks: 4\n"
     ]
    },
    {
     "data": {
      "image/png": "[encoded data removed]",
      "text/plain": [
       "<matplotlib.figure.Figure at 0x7f01d8c41290>"
      ]
     },
     "metadata": {},
     "output_type": "display_data"
    }
   ],
   "source": [
    "plot_results(nksim)"
   ]
  },
  {
   "cell_type": "markdown",
   "metadata": {},
   "source": [
    "Here's a simulation run with larger `N` and `K`:"
   ]
  },
  {
   "cell_type": "code",
   "execution_count": 30,
   "metadata": {
    "collapsed": false
   },
   "outputs": [
    {
     "name": "stdout",
     "output_type": "stream",
     "text": [
      "CPU times: user 1.35 s, sys: 57.3 ms, total: 1.41 s\n",
      "Wall time: 1.41 s\n",
      "Mean fitness:  0.649945514008\n",
      "Mean path length:  6.72\n",
      "Number of peaks: 100\n"
     ]
    },
    {
     "data": {
      "image/png": "[encoded data removed]",
      "text/plain": [
       "<matplotlib.figure.Figure at 0x7f01d8aa0c10>"
      ]
     },
     "metadata": {},
     "output_type": "display_data"
    }
   ],
   "source": [
    "%time nksim = run_simulation(N=40, K=20)\n",
    "plot_results(nksim)"
   ]
  },
  {
   "cell_type": "markdown",
   "metadata": {},
   "source": [
    "**Exercise:** Starting with `N=5` and `K=3`, run simulations with increasing values of `N`, keeping `K` constant, and plot the number of peaks and mean path length as a function of `N`."
   ]
  },
  {
   "cell_type": "code",
   "execution_count": 31,
   "metadata": {
    "collapsed": false
   },
   "outputs": [],
   "source": [
    "def plot_peaks_and_mpl_n(nksims):\n",
    "    ns = []\n",
    "    num_peaks = []\n",
    "    mean_path_lens = []\n",
    "    for n, nksim in nksims:\n",
    "        peaks = nksim.get_peaks()\n",
    "        cdf_moves = Cdf(nksim.get_path_lengths())\n",
    "        ns.append(n)\n",
    "        num_peaks.append(len(peaks))\n",
    "        mean_path_lens.append(cdf_moves.Mean())\n",
    "    \n",
    "    thinkplot.PrePlot(cols=2)\n",
    "    thinkplot.plot(ns, num_peaks)\n",
    "    thinkplot.Config(xlabel='N', ylabel='Number of Peaks')\n",
    "    \n",
    "    thinkplot.SubPlot(2)\n",
    "    thinkplot.plot(ns, mean_path_lens)\n",
    "    thinkplot.Config(xlabel='N', ylabel='Mean Path Length')"
   ]
  },
  {
   "cell_type": "code",
   "execution_count": 32,
   "metadata": {
    "collapsed": false
   },
   "outputs": [
    {
     "data": {
      "image/png": "[encoded data removed]",
      "text/plain": [
       "<matplotlib.figure.Figure at 0x7f01d8cf8210>"
      ]
     },
     "metadata": {},
     "output_type": "display_data"
    }
   ],
   "source": [
    "nksims = [(x, run_simulation(N=x, K=3)) for x in xrange(5,25)]\n",
    "plot_peaks_and_mpl_n(nksims)"
   ]
  },
  {
   "cell_type": "markdown",
   "metadata": {},
   "source": [
    "**Exercise:** Starting with `N=20` and `K=0`, run simulations with increasing values of `K`, keeping `N` constant, and plot the number of peaks and mean path length as a function of `K`."
   ]
  },
  {
   "cell_type": "code",
   "execution_count": 33,
   "metadata": {
    "collapsed": true
   },
   "outputs": [],
   "source": [
    "def plot_peaks_and_mpl_k(nksims):\n",
    "    ks = []\n",
    "    num_peaks = []\n",
    "    mean_path_lens = []\n",
    "    for k, nksim in nksims:\n",
    "        peaks = nksim.get_peaks()\n",
    "        cdf_moves = Cdf(nksim.get_path_lengths())\n",
    "        ks.append(k)\n",
    "        num_peaks.append(len(peaks))\n",
    "        mean_path_lens.append(cdf_moves.Mean())\n",
    "    \n",
    "    thinkplot.PrePlot(cols=2)\n",
    "    thinkplot.plot(ks, num_peaks)\n",
    "    thinkplot.Config(xlabel='K', ylabel='Number of Peaks')\n",
    "    \n",
    "    thinkplot.SubPlot(2)\n",
    "    thinkplot.plot(ks, mean_path_lens)\n",
    "    thinkplot.Config(xlabel='K', ylabel='Mean Path Length')"
   ]
  },
  {
   "cell_type": "code",
   "execution_count": 34,
   "metadata": {
    "collapsed": false
   },
   "outputs": [
    {
     "data": {
      "image/png": "[encoded data removed]",
      "text/plain": [
       "<matplotlib.figure.Figure at 0x7f01d8b15390>"
      ]
     },
     "metadata": {},
     "output_type": "display_data"
    }
   ],
   "source": [
    "nksims = [(x, run_simulation(N=20, K=x)) for x in xrange(0,20)]\n",
    "plot_peaks_and_mpl_k(nksims)"
   ]
  },
  {
   "cell_type": "markdown",
   "metadata": {},
   "source": [
    "## Neutral networks\n",
    "\n",
    "Consider the extension of the NK model proposed by Newman and Engelhardt (1998), in which fitness values are quantized rather than continuous. Below is a subclass of NKLandscape that implements this extension, which is sometimes called the NKq model."
   ]
  },
  {
   "cell_type": "code",
   "execution_count": 35,
   "metadata": {
    "collapsed": false
   },
   "outputs": [],
   "source": [
    "class NKqLandscape(NKLandscape):\n",
    "    def __init__(self, N, K, A=2, F=2):\n",
    "        \"\"\"Create a landscape with quantized fitness values.\n",
    "        \n",
    "        N: number of attributes\n",
    "        K: number of interactions\n",
    "        A: number of alleles per attribute\n",
    "        F: number of quantized fitness values\n",
    "        \n",
    "        index is a NumPy array that specifies the interactions between\n",
    "        attributes. (The K+1 entries in each row identify the attributes\n",
    "        that contribute to the fitness of the row attribute.)\n",
    "        \"\"\"\n",
    "        NKLandscape.__init__(self, N, K, A)\n",
    "        self.F = F\n",
    "    \n",
    "    def lookup(self, i, row):\n",
    "        \"\"\"Look up `row` in function `i`.\n",
    "        \n",
    "        i: int from 0 to N-1\n",
    "        row: array of K+1 0s and 1s\n",
    "        \n",
    "        returns: f_i(row)\n",
    "        \"\"\"\n",
    "        key = i, tuple(row)\n",
    "        return self.cache.setdefault(key, randint(self.F)/(self.F-1))"
   ]
  },
  {
   "cell_type": "code",
   "execution_count": 36,
   "metadata": {
    "collapsed": false
   },
   "outputs": [],
   "source": [
    "nkqland = NKqLandscape(5, 2, 2, 2)"
   ]
  },
  {
   "cell_type": "code",
   "execution_count": 37,
   "metadata": {
    "collapsed": false
   },
   "outputs": [
    {
     "data": {
      "text/plain": [
       "(array([0, 1, 1, 1, 0], dtype=uint8), 0.400)"
      ]
     },
     "execution_count": 37,
     "metadata": {},
     "output_type": "execute_result"
    }
   ],
   "source": [
    "loc = nkqland.random_loc()\n",
    "loc, nkqland.fitness(loc)"
   ]
  },
  {
   "cell_type": "code",
   "execution_count": 38,
   "metadata": {
    "collapsed": false
   },
   "outputs": [
    {
     "data": {
      "text/plain": [
       "{(0, (0, 1, 1)): 0.000,\n",
       " (1, (1, 1, 1)): 1.000,\n",
       " (2, (1, 1, 0)): 0.000,\n",
       " (3, (1, 0, 0)): 0.000,\n",
       " (4, (0, 0, 1)): 1.000}"
      ]
     },
     "execution_count": 38,
     "metadata": {},
     "output_type": "execute_result"
    }
   ],
   "source": [
    "nkqland.cache"
   ]
  },
  {
   "cell_type": "markdown",
   "metadata": {},
   "source": [
    "The NKq model gives rise to \"neutral networks\". A neutral network is \"a set of sequences [locations] that all possess the same fitness and that are connected together via ... point mutations\" (p. 1335). Newman and Engelhardt (hereafter NE) discover some striking properties of these networks, which, they suggest, greatly improve the performance of single-mutation evolutionary search on rugged fitness landscapes. In the exercises below, we ask you to replicate and interpret some of their results."
   ]
  },
  {
   "cell_type": "markdown",
   "metadata": {
    "collapsed": true
   },
   "source": [
    "### Detecting and analyzing neutral networks\n",
    "\n",
    "To get you started, here's a class that might help.  It keeps track of a collection of nodes that are at the same fitness level.  It figures out which nodes are one-bit neighbors and creates edges between them.  Then it uses NetworkX to find all connected components.\n",
    "\n",
    "The tricky part of this implementation is that it converts each location from an array of 0s and 1s to an integer; it uses these integers as nodes in the graph, and it uses bitwise operations on these integers to check for neighbor relationships."
   ]
  },
  {
   "cell_type": "code",
   "execution_count": 39,
   "metadata": {
    "collapsed": false
   },
   "outputs": [],
   "source": [
    "import networkx as nx\n",
    "\n",
    "class GraphOfLoc:\n",
    "    \"\"\"Represents a graph of locations.\"\"\"\n",
    "    \n",
    "    def __init__(self, N):\n",
    "        self.g = nx.Graph()\n",
    "        \n",
    "        # precompute the powers of 2, used in add()\n",
    "        self.powers = 2 ** np.arange(N-1, -1, -1)\n",
    "        \n",
    "    def add(self, new_loc):\n",
    "        \"\"\"Adds a location to a graph.\n",
    "        \n",
    "        new_loc: location in the form of an int\n",
    "        \"\"\"\n",
    "        locint = np.sum(self.powers * new_loc)\n",
    "        self.g.add_node(locint)\n",
    "\n",
    "        if len(self.g):\n",
    "            # put the other locs into an array\n",
    "            other_locs = np.array(self.g.nodes())\n",
    "            \n",
    "            # compute the indices of the neighbors\n",
    "            index = np.in1d(locint ^ other_locs, self.powers)\n",
    "            neighbors = other_locs[index]\n",
    "            \n",
    "            # add edges from the new loc to all neighbors\n",
    "            self.g.add_edges_from([(locint, n) for n in neighbors])\n",
    "        \n",
    "    def components(self):\n",
    "        \"\"\"Connected components of the graph.\n",
    "        \n",
    "        returns: iterator of sets of nodes.\n",
    "        \"\"\"\n",
    "        return nx.algorithms.connected_components(self.g)\n",
    "    \n",
    "    def component_sizes(self):\n",
    "        return [len(component) for component in self.components()]\n",
    "        \n",
    "    def __str__(self):\n",
    "        return str(self.g)"
   ]
  },
  {
   "cell_type": "markdown",
   "metadata": {},
   "source": [
    "Here's a small example that shows how it works."
   ]
  },
  {
   "cell_type": "code",
   "execution_count": 40,
   "metadata": {
    "collapsed": false
   },
   "outputs": [
    {
     "data": {
      "text/plain": [
       "([0], [])"
      ]
     },
     "execution_count": 40,
     "metadata": {},
     "output_type": "execute_result"
    }
   ],
   "source": [
    "graph = GraphOfLoc(5)\n",
    "graph.add([0,0,0,0,0])\n",
    "graph.g.nodes(), graph.g.edges()"
   ]
  },
  {
   "cell_type": "markdown",
   "metadata": {},
   "source": [
    "When we add another node that is a neighbor of the first, we get an edge between them."
   ]
  },
  {
   "cell_type": "code",
   "execution_count": 41,
   "metadata": {
    "collapsed": false
   },
   "outputs": [
    {
     "data": {
      "text/plain": [
       "([0, 1], [(0, 1)])"
      ]
     },
     "execution_count": 41,
     "metadata": {},
     "output_type": "execute_result"
    }
   ],
   "source": [
    "graph.add([0,0,0,0,1])\n",
    "graph.g.nodes(), graph.g.edges()"
   ]
  },
  {
   "cell_type": "markdown",
   "metadata": {},
   "source": [
    "Here's another node that is also a neighbor of the first (but not of the second)."
   ]
  },
  {
   "cell_type": "code",
   "execution_count": 42,
   "metadata": {
    "collapsed": false
   },
   "outputs": [
    {
     "data": {
      "text/plain": [
       "([0, 1, 2], [(0, 1), (0, 2)])"
      ]
     },
     "execution_count": 42,
     "metadata": {},
     "output_type": "execute_result"
    }
   ],
   "source": [
    "graph.add([0,0,0,1,0])\n",
    "graph.g.nodes(), graph.g.edges()"
   ]
  },
  {
   "cell_type": "markdown",
   "metadata": {},
   "source": [
    "And here's a node that's not connected."
   ]
  },
  {
   "cell_type": "code",
   "execution_count": 43,
   "metadata": {
    "collapsed": false
   },
   "outputs": [
    {
     "data": {
      "text/plain": [
       "([0, 1, 2, 24], [(0, 1), (0, 2)])"
      ]
     },
     "execution_count": 43,
     "metadata": {},
     "output_type": "execute_result"
    }
   ],
   "source": [
    "graph.add([1,1,0,0,0])\n",
    "graph.g.nodes(), graph.g.edges()"
   ]
  },
  {
   "cell_type": "markdown",
   "metadata": {},
   "source": [
    "If we print the sizes of the connected components, we get one set of 3 nodes and 1 unconnected node."
   ]
  },
  {
   "cell_type": "code",
   "execution_count": 44,
   "metadata": {
    "collapsed": false
   },
   "outputs": [
    {
     "name": "stdout",
     "output_type": "stream",
     "text": [
      "3\n",
      "1\n"
     ]
    }
   ],
   "source": [
    "for component in graph.components():\n",
    "    print(len(component))"
   ]
  },
  {
   "cell_type": "markdown",
   "metadata": {},
   "source": [
    "Now let's find all connected components for all fitness levels in a quantized landscape."
   ]
  },
  {
   "cell_type": "code",
   "execution_count": 45,
   "metadata": {
    "collapsed": true
   },
   "outputs": [],
   "source": [
    "N = 10\n",
    "K = 4\n",
    "nkqland = NKqLandscape(N, K)"
   ]
  },
  {
   "cell_type": "markdown",
   "metadata": {},
   "source": [
    "`make_locs` makes an array that contains the binary representation of all locations in a landscape."
   ]
  },
  {
   "cell_type": "code",
   "execution_count": 46,
   "metadata": {
    "collapsed": false
   },
   "outputs": [],
   "source": [
    "def make_locs(N):\n",
    "    \"\"\"Makes an array of binary numbers from 0..2**N-1.\n",
    "    \n",
    "    returns: array of 1s and 0s with 2**N rows and N cols\n",
    "    \"\"\"\n",
    "    # array of numbers\n",
    "    locints = np.arange(2**N, dtype=np.uint64)\n",
    "    \n",
    "    # array of 1s and 0s\n",
    "    locs = np.zeros((N, len(locints)), dtype=np.uint8)\n",
    "    \n",
    "    # fill in the rows\n",
    "    for i in range(N):\n",
    "        locs[i] = locints % 2\n",
    "        locints >>= 1\n",
    "    \n",
    "    # flip and transpose\n",
    "    return np.flipud(locs).transpose()"
   ]
  },
  {
   "cell_type": "markdown",
   "metadata": {},
   "source": [
    "For `N=10`, there are `2**N = 1024` locations."
   ]
  },
  {
   "cell_type": "code",
   "execution_count": 47,
   "metadata": {
    "collapsed": false
   },
   "outputs": [
    {
     "data": {
      "text/plain": [
       "1024"
      ]
     },
     "execution_count": 47,
     "metadata": {},
     "output_type": "execute_result"
    }
   ],
   "source": [
    "locs = make_locs(N)\n",
    "len(locs)"
   ]
  },
  {
   "cell_type": "markdown",
   "metadata": {},
   "source": [
    "`collect_graph` enumerates the locations in the landscape, computes the fitness of each, and makes a dictionary that maps from each fitness level to a `GraphOfLoc` that contains the locations at that fitness level."
   ]
  },
  {
   "cell_type": "code",
   "execution_count": 48,
   "metadata": {
    "collapsed": false
   },
   "outputs": [],
   "source": [
    "from collections import defaultdict\n",
    "\n",
    "def collect_graphs(nkqland):\n",
    "    locs = make_locs(nkqland.N)\n",
    "    d = defaultdict(lambda: GraphOfLoc(nkqland.N))\n",
    "\n",
    "    for loc in locs:\n",
    "        fitness = nkqland.fitness(loc)\n",
    "        d[fitness].add(loc)\n",
    "        \n",
    "    return d"
   ]
  },
  {
   "cell_type": "code",
   "execution_count": 49,
   "metadata": {
    "collapsed": false
   },
   "outputs": [
    {
     "name": "stdout",
     "output_type": "stream",
     "text": [
      "CPU times: user 84.6 ms, sys: 144 µs, total: 84.8 ms\n",
      "Wall time: 87.1 ms\n"
     ]
    }
   ],
   "source": [
    "%time d = collect_graphs(nkqland)"
   ]
  },
  {
   "cell_type": "markdown",
   "metadata": {},
   "source": [
    "We can summarize the results by printing the fitness levels and the sizes of the connected components at each level."
   ]
  },
  {
   "cell_type": "code",
   "execution_count": 50,
   "metadata": {
    "collapsed": false
   },
   "outputs": [],
   "source": [
    "def summarize_graphs(d):\n",
    "    for fitness, graph in sorted(d.items()):\n",
    "        sizes = graph.component_sizes()\n",
    "        sizes.sort(reverse=True)\n",
    "        print(fitness, sizes)"
   ]
  },
  {
   "cell_type": "code",
   "execution_count": 51,
   "metadata": {
    "collapsed": false
   },
   "outputs": [
    {
     "name": "stdout",
     "output_type": "stream",
     "text": [
      "0.1 [3, 2, 1, 1]\n",
      "0.2 [14, 2, 2, 2, 2, 1, 1, 1, 1, 1, 1, 1, 1]\n",
      "0.3 [100, 2, 2, 1, 1, 1, 1, 1, 1, 1, 1]\n",
      "0.4 [149, 6, 5, 3, 2, 1, 1, 1, 1, 1, 1, 1, 1, 1]\n",
      "0.5 [264, 3, 2, 2, 2, 1, 1, 1, 1, 1, 1, 1, 1]\n",
      "0.6 [215, 2, 2, 2, 1, 1, 1, 1, 1, 1, 1, 1]\n",
      "0.7 [124, 4, 2, 2, 1, 1, 1, 1, 1, 1, 1, 1]\n",
      "0.8 [20, 9, 5, 1, 1, 1, 1, 1, 1]\n",
      "0.9 [3, 2, 1, 1, 1]\n",
      "1.0 [2, 1]\n"
     ]
    }
   ],
   "source": [
    "summarize_graphs(d)"
   ]
  },
  {
   "cell_type": "markdown",
   "metadata": {},
   "source": [
    "Here is a function that extracts the sizes of the components. (Recall that in the language of the NE paper, each component in this graph is a neutral network.)"
   ]
  },
  {
   "cell_type": "code",
   "execution_count": 52,
   "metadata": {
    "collapsed": false
   },
   "outputs": [],
   "source": [
    "def all_component_sizes(d):\n",
    "    \"\"\"Extract the sizes of the components.\n",
    "    \n",
    "    returns: list of int\n",
    "    \"\"\"\n",
    "    t = []\n",
    "    for fitness, graph in d.items():\n",
    "        t.extend(graph.component_sizes())\n",
    "    return t"
   ]
  },
  {
   "cell_type": "markdown",
   "metadata": {},
   "source": [
    "And here is a function that computes the fraction of locations (or sequences, in NE's terminology) that reside in \"common\" networks, where a common network is one that is larger than average."
   ]
  },
  {
   "cell_type": "code",
   "execution_count": 53,
   "metadata": {
    "collapsed": true
   },
   "outputs": [],
   "source": [
    "def prob_common(sizes):\n",
    "    \"\"\"Computes the fraction of sequences in common neutral networks.\n",
    "    \n",
    "    sizes: list of component sizes\n",
    "    \"\"\"\n",
    "    mean = np.mean(sizes)\n",
    "    total = np.sum(sizes)\n",
    "    common = np.sum([size for size in sizes if size>mean])\n",
    "    return common / total"
   ]
  },
  {
   "cell_type": "markdown",
   "metadata": {},
   "source": [
    "Finally, here is a function that runs a neutral network experiment. It takes values for `N`, `K`, and `F` (leaving the default value of `A`=2), creates an appropriate NKq landscape, instantiates a bunch of agents (by default, 100 agents that use the \"fitter\" strategy), and lets them walk the landscape.\n",
    "\n",
    "The `run_experiment` function returns three things: a Cdf of neutral network sizes, the fraction of locations that reside in common networks, and the maximum fitness achieved by the agents. You may find these things remarkably useful in the exercises below."
   ]
  },
  {
   "cell_type": "code",
   "execution_count": 54,
   "metadata": {
    "collapsed": true
   },
   "outputs": [],
   "source": [
    "def run_experiment(N, K, F=2, num_agents=100, agent_maker=NKAgentFitter):\n",
    "    \"\"\"Runs an experiment with the given parameters and return summaries.\n",
    "    \n",
    "    N: number of attributes\n",
    "    K: number of interactions\n",
    "    F: number of weights\n",
    "    num_agents: int number of agents\n",
    "    agent_maker: function that makes agents\n",
    "    \n",
    "    returns: Cdf of component (neutral network) sizes,\n",
    "             float fraction of locations in a common network,\n",
    "             float maximum fitness acheived by the agents\n",
    "    \"\"\"\n",
    "    nkqland = NKqLandscape(N, K, F=F)\n",
    "    \n",
    "    d = collect_graphs(nkqland)\n",
    "    sizes = all_component_sizes(d)\n",
    "    cdf = Cdf(sizes)\n",
    "    pc = prob_common(sizes)\n",
    "    \n",
    "    nksim = NKSimulation(nkqland, num_agents, agent_maker)\n",
    "    for i in range(100):\n",
    "        steps = nksim.step()\n",
    "        if np.sum(steps) == 0:\n",
    "            break\n",
    "\n",
    "    max_fit = np.max(nksim.get_fitnesses())\n",
    "    \n",
    "    return cdf, pc, max_fit"
   ]
  },
  {
   "cell_type": "markdown",
   "metadata": {},
   "source": [
    "### Your turn!\n",
    "\n",
    "** Exercise:** Run experiments for a single value of `N` (e.g., 14) and several values of `K` (e.g., 1, 2 and 5). Plot the distribution of neutral network sizes. Compare your results with Figure 1 in the NE paper."
   ]
  },
  {
   "cell_type": "code",
   "execution_count": 55,
   "metadata": {
    "collapsed": false
   },
   "outputs": [
    {
     "data": {
      "image/png": "[encoded data removed]",
      "text/plain": [
       "<matplotlib.figure.Figure at 0x7f01d8bd5490>"
      ]
     },
     "metadata": {},
     "output_type": "display_data"
    }
   ],
   "source": [
    "thinkplot.PrePlot(cols=3)\n",
    "thinkplot.Cdf(run_experiment(14,1)[0])\n",
    "thinkplot.Config(xlabel='Neutral Network Sizes', ylabel='CDF')\n",
    "\n",
    "thinkplot.SubPlot(2)\n",
    "thinkplot.Cdf(run_experiment(14,2)[0])\n",
    "thinkplot.Config(xlabel='Neutral Network Sizes', ylabel='CDF')\n",
    "\n",
    "thinkplot.SubPlot(3)\n",
    "thinkplot.Cdf(run_experiment(14,5)[0])\n",
    "thinkplot.Config(xlabel='Neutral Network Sizes', ylabel='CDF')"
   ]
  },
  {
   "cell_type": "markdown",
   "metadata": {},
   "source": [
    "** Exercise:** Run experiments for a range of `N` values (e.g., 8 to 16) and several values of `K` (e.g., 2, 4 and 6). For each value of `K`, plot the fraction of locations that reside in common neutral networks. Compare your results with Figure 2 in the NE paper."
   ]
  },
  {
   "cell_type": "code",
   "execution_count": 56,
   "metadata": {
    "collapsed": false
   },
   "outputs": [
    {
     "data": {
      "image/png": "[encoded data removed]",
      "text/plain": [
       "<matplotlib.figure.Figure at 0x7f01d0986cd0>"
      ]
     },
     "metadata": {},
     "output_type": "display_data"
    }
   ],
   "source": [
    "for K in [2,4,6]:\n",
    "    ns = []\n",
    "    pcs = []\n",
    "    for N in xrange(8,16):\n",
    "        ns.append(N)\n",
    "        pcs.append(run_experiment(N, K)[1])\n",
    "    label = \"K = \" + str(K)\n",
    "    thinkplot.plot(ns, pcs, label=label)\n",
    "thinkplot.config(xlabel='N', ylabel='Fraction of Locations in common neutral networks')"
   ]
  },
  {
   "cell_type": "markdown",
   "metadata": {},
   "source": [
    "** Exercise:** Run experiments for a single pair of `N` and `K` values (e.g., 14 and 4) and a range of `F` values (e.g., 2 to 16). Plot the maximum fitness achieved as a function of `F`. Compare your results with Figure 3 in the NE paper."
   ]
  },
  {
   "cell_type": "code",
   "execution_count": 57,
   "metadata": {
    "collapsed": false
   },
   "outputs": [
    {
     "data": {
      "image/png": "[encoded data removed]",
      "text/plain": [
       "<matplotlib.figure.Figure at 0x7f01bad8fb50>"
      ]
     },
     "metadata": {},
     "output_type": "display_data"
    }
   ],
   "source": [
    "fs = []\n",
    "max_fits = []\n",
    "for F in xrange(2,16):\n",
    "    fs.append(F)\n",
    "    max_fits.append(run_experiment(14, 4, F=F)[-1])\n",
    "thinkplot.plot(fs, max_fits)\n",
    "thinkplot.config(xlabel='F', ylabel='Maximum fitness achieved')"
   ]
  },
  {
   "cell_type": "markdown",
   "metadata": {
    "collapsed": true
   },
   "source": [
    "**Exercise:** Putting these findings together, explain in your own words how neutrality helps an evolving population reach a higher level of fitness. How might you be able to harness this phenomenon in designing engineered artifacts and systems?"
   ]
  },
  {
   "cell_type": "markdown",
   "metadata": {
    "collapsed": true
   },
   "source": [
    "Higher N/K values and lower F values seem to help reach higher levels of fitness, and this could be utilized when designing engineered artifacts and systems."
   ]
  },
  {
   "cell_type": "code",
   "execution_count": null,
   "metadata": {
    "collapsed": true
   },
   "outputs": [],
   "source": []
  }
 ],
 "metadata": {
  "anaconda-cloud": {},
  "kernelspec": {
   "display_name": "Python 2",
   "language": "python",
   "name": "python2"
  },
  "language_info": {
   "codemirror_mode": {
    "name": "ipython",
    "version": 2
   },
   "file_extension": ".py",
   "mimetype": "text/x-python",
   "name": "python",
   "nbconvert_exporter": "python",
   "pygments_lexer": "ipython2",
   "version": "2.7.11"
  }
 },
 "nbformat": 4,
 "nbformat_minor": 0
}
